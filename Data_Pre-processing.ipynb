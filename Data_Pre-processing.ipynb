{
  "nbformat": 4,
  "nbformat_minor": 0,
  "metadata": {
    "colab": {
      "name": "Copy of data_preprocessing_tools.ipynb",
      "provenance": [],
      "collapsed_sections": [],
      "include_colab_link": true
    },
    "kernelspec": {
      "name": "python3",
      "display_name": "Python 3"
    }
  },
  "cells": [
    {
      "cell_type": "markdown",
      "metadata": {
        "id": "view-in-github",
        "colab_type": "text"
      },
      "source": [
        "<a href=\"https://colab.research.google.com/github/zeelrupapara/Machine-Learning-Models/blob/main/Data_Pre-processing.ipynb\" target=\"_parent\"><img src=\"https://colab.research.google.com/assets/colab-badge.svg\" alt=\"Open In Colab\"/></a>"
      ]
    },
    {
      "cell_type": "code",
      "metadata": {
        "id": "Q8L2MwftUabV"
      },
      "source": [
        "import numpy as np\n",
        "import pandas as pd\n",
        "import matplotlib.pyplot as plt\n"
      ],
      "execution_count": null,
      "outputs": []
    },
    {
      "cell_type": "code",
      "metadata": {
        "id": "huvG1SaFUvjG",
        "colab": {
          "base_uri": "https://localhost:8080/",
          "height": 355
        },
        "outputId": "2fd0c879-1e38-4a04-dc06-2a033edf1cea"
      },
      "source": [
        "dataset = pd.read_csv(\"Data.csv\")\n",
        "dataset"
      ],
      "execution_count": null,
      "outputs": [
        {
          "output_type": "execute_result",
          "data": {
            "text/html": [
              "<div>\n",
              "<style scoped>\n",
              "    .dataframe tbody tr th:only-of-type {\n",
              "        vertical-align: middle;\n",
              "    }\n",
              "\n",
              "    .dataframe tbody tr th {\n",
              "        vertical-align: top;\n",
              "    }\n",
              "\n",
              "    .dataframe thead th {\n",
              "        text-align: right;\n",
              "    }\n",
              "</style>\n",
              "<table border=\"1\" class=\"dataframe\">\n",
              "  <thead>\n",
              "    <tr style=\"text-align: right;\">\n",
              "      <th></th>\n",
              "      <th>Country</th>\n",
              "      <th>Age</th>\n",
              "      <th>Salary</th>\n",
              "      <th>Purchased</th>\n",
              "    </tr>\n",
              "  </thead>\n",
              "  <tbody>\n",
              "    <tr>\n",
              "      <th>0</th>\n",
              "      <td>France</td>\n",
              "      <td>44.0</td>\n",
              "      <td>72000.0</td>\n",
              "      <td>No</td>\n",
              "    </tr>\n",
              "    <tr>\n",
              "      <th>1</th>\n",
              "      <td>Spain</td>\n",
              "      <td>27.0</td>\n",
              "      <td>48000.0</td>\n",
              "      <td>Yes</td>\n",
              "    </tr>\n",
              "    <tr>\n",
              "      <th>2</th>\n",
              "      <td>Germany</td>\n",
              "      <td>30.0</td>\n",
              "      <td>54000.0</td>\n",
              "      <td>No</td>\n",
              "    </tr>\n",
              "    <tr>\n",
              "      <th>3</th>\n",
              "      <td>Spain</td>\n",
              "      <td>38.0</td>\n",
              "      <td>61000.0</td>\n",
              "      <td>No</td>\n",
              "    </tr>\n",
              "    <tr>\n",
              "      <th>4</th>\n",
              "      <td>Germany</td>\n",
              "      <td>40.0</td>\n",
              "      <td>NaN</td>\n",
              "      <td>Yes</td>\n",
              "    </tr>\n",
              "    <tr>\n",
              "      <th>5</th>\n",
              "      <td>France</td>\n",
              "      <td>35.0</td>\n",
              "      <td>58000.0</td>\n",
              "      <td>Yes</td>\n",
              "    </tr>\n",
              "    <tr>\n",
              "      <th>6</th>\n",
              "      <td>Spain</td>\n",
              "      <td>NaN</td>\n",
              "      <td>52000.0</td>\n",
              "      <td>No</td>\n",
              "    </tr>\n",
              "    <tr>\n",
              "      <th>7</th>\n",
              "      <td>France</td>\n",
              "      <td>48.0</td>\n",
              "      <td>79000.0</td>\n",
              "      <td>Yes</td>\n",
              "    </tr>\n",
              "    <tr>\n",
              "      <th>8</th>\n",
              "      <td>Germany</td>\n",
              "      <td>50.0</td>\n",
              "      <td>83000.0</td>\n",
              "      <td>No</td>\n",
              "    </tr>\n",
              "    <tr>\n",
              "      <th>9</th>\n",
              "      <td>France</td>\n",
              "      <td>37.0</td>\n",
              "      <td>67000.0</td>\n",
              "      <td>Yes</td>\n",
              "    </tr>\n",
              "  </tbody>\n",
              "</table>\n",
              "</div>"
            ],
            "text/plain": [
              "   Country   Age   Salary Purchased\n",
              "0   France  44.0  72000.0        No\n",
              "1    Spain  27.0  48000.0       Yes\n",
              "2  Germany  30.0  54000.0        No\n",
              "3    Spain  38.0  61000.0        No\n",
              "4  Germany  40.0      NaN       Yes\n",
              "5   France  35.0  58000.0       Yes\n",
              "6    Spain   NaN  52000.0        No\n",
              "7   France  48.0  79000.0       Yes\n",
              "8  Germany  50.0  83000.0        No\n",
              "9   France  37.0  67000.0       Yes"
            ]
          },
          "metadata": {},
          "execution_count": 5
        }
      ]
    },
    {
      "cell_type": "markdown",
      "metadata": {
        "id": "Pde8GUcFVARt"
      },
      "source": [
        "# Take care of missing data"
      ]
    },
    {
      "cell_type": "code",
      "metadata": {
        "id": "ZgwiF9TEVD5c"
      },
      "source": [
        "X = dataset.iloc[:, :-1].values\n",
        "y = dataset.iloc[:, -1].values"
      ],
      "execution_count": null,
      "outputs": []
    },
    {
      "cell_type": "code",
      "metadata": {
        "id": "bkQwGHfPWMZp",
        "colab": {
          "base_uri": "https://localhost:8080/"
        },
        "outputId": "969ad025-3911-4838-9e8b-c0c606fd351e"
      },
      "source": [
        "from sklearn.impute import SimpleImputer\n",
        "\n",
        "imputer = SimpleImputer(missing_values=np.nan, strategy='mean')\n",
        "imputer.fit(X[:, 1:3])\n",
        "X[:, 1:3] = imputer.transform(X[:, 1:3])\n",
        "X[:, 1:3]"
      ],
      "execution_count": null,
      "outputs": [
        {
          "output_type": "execute_result",
          "data": {
            "text/plain": [
              "array([[44.0, 72000.0],\n",
              "       [27.0, 48000.0],\n",
              "       [30.0, 54000.0],\n",
              "       [38.0, 61000.0],\n",
              "       [40.0, 63777.77777777778],\n",
              "       [35.0, 58000.0],\n",
              "       [38.77777777777778, 52000.0],\n",
              "       [48.0, 79000.0],\n",
              "       [50.0, 83000.0],\n",
              "       [37.0, 67000.0]], dtype=object)"
            ]
          },
          "metadata": {},
          "execution_count": 11
        }
      ]
    },
    {
      "cell_type": "markdown",
      "metadata": {
        "id": "DU7Bq4rOW4xz"
      },
      "source": [
        "# Encoding categorical data"
      ]
    },
    {
      "cell_type": "code",
      "metadata": {
        "id": "aaw_cXWzXays",
        "colab": {
          "base_uri": "https://localhost:8080/"
        },
        "outputId": "e4fa7c91-09ba-4023-c90a-46a44ad81264"
      },
      "source": [
        "from sklearn.compose import ColumnTransformer\n",
        "from sklearn.preprocessing import OneHotEncoder\n",
        "\n",
        "ct = ColumnTransformer(transformers = [('encoder', OneHotEncoder(), [0])], remainder = 'passthrough')\n",
        "X = np.array(ct.fit_transform(X))\n",
        "X"
      ],
      "execution_count": null,
      "outputs": [
        {
          "output_type": "execute_result",
          "data": {
            "text/plain": [
              "array([[0.0, 1.0, 0.0, 0.0, 44.0, 72000.0],\n",
              "       [1.0, 0.0, 0.0, 1.0, 27.0, 48000.0],\n",
              "       [1.0, 0.0, 1.0, 0.0, 30.0, 54000.0],\n",
              "       [1.0, 0.0, 0.0, 1.0, 38.0, 61000.0],\n",
              "       [1.0, 0.0, 1.0, 0.0, 40.0, 63777.77777777778],\n",
              "       [0.0, 1.0, 0.0, 0.0, 35.0, 58000.0],\n",
              "       [1.0, 0.0, 0.0, 1.0, 38.77777777777778, 52000.0],\n",
              "       [0.0, 1.0, 0.0, 0.0, 48.0, 79000.0],\n",
              "       [1.0, 0.0, 1.0, 0.0, 50.0, 83000.0],\n",
              "       [0.0, 1.0, 0.0, 0.0, 37.0, 67000.0]], dtype=object)"
            ]
          },
          "metadata": {},
          "execution_count": 14
        }
      ]
    },
    {
      "cell_type": "code",
      "metadata": {
        "id": "rj6bOGYbZPxx",
        "colab": {
          "base_uri": "https://localhost:8080/"
        },
        "outputId": "ba9f29e9-bdb8-43c8-d7d0-fc05614805eb"
      },
      "source": [
        "from sklearn.preprocessing import LabelEncoder\n",
        "\n",
        "\n",
        "le = LabelEncoder()\n",
        "y = le.fit_transform(y)\n",
        "y"
      ],
      "execution_count": null,
      "outputs": [
        {
          "output_type": "execute_result",
          "data": {
            "text/plain": [
              "array([0, 1, 0, 0, 1, 1, 0, 1, 0, 1])"
            ]
          },
          "metadata": {},
          "execution_count": 15
        }
      ]
    },
    {
      "cell_type": "markdown",
      "metadata": {
        "id": "dl-dfFsFZpRh"
      },
      "source": [
        "# StanderdScaler"
      ]
    },
    {
      "cell_type": "code",
      "metadata": {
        "id": "dxCiAfKfZoX_",
        "colab": {
          "base_uri": "https://localhost:8080/"
        },
        "outputId": "8c9532d7-a835-4d8f-a271-84b23d87f732"
      },
      "source": [
        "from sklearn.preprocessing import StandardScaler\n",
        "\n",
        "sc = StandardScaler()\n",
        "X = sc.fit_transform(X[:, 3:])\n",
        "X"
      ],
      "execution_count": null,
      "outputs": [
        {
          "output_type": "execute_result",
          "data": {
            "text/plain": [
              "array([[-6.54653671e-01,  7.58874362e-01,  7.49473254e-01],\n",
              "       [ 1.52752523e+00, -1.71150388e+00, -1.43817841e+00],\n",
              "       [-6.54653671e-01, -1.27555478e+00, -8.91265492e-01],\n",
              "       [ 1.52752523e+00, -1.13023841e-01, -2.53200424e-01],\n",
              "       [-6.54653671e-01,  1.77608893e-01,  6.63219199e-16],\n",
              "       [-6.54653671e-01, -5.48972942e-01, -5.26656882e-01],\n",
              "       [ 1.52752523e+00,  0.00000000e+00, -1.07356980e+00],\n",
              "       [-6.54653671e-01,  1.34013983e+00,  1.38753832e+00],\n",
              "       [-6.54653671e-01,  1.63077256e+00,  1.75214693e+00],\n",
              "       [-6.54653671e-01, -2.58340208e-01,  2.93712492e-01]])"
            ]
          },
          "metadata": {},
          "execution_count": 17
        }
      ]
    },
    {
      "cell_type": "markdown",
      "metadata": {
        "id": "KxO16vS1acGc"
      },
      "source": [
        "# **PART 2**"
      ]
    },
    {
      "cell_type": "code",
      "metadata": {
        "id": "qBVCU9exbBoU"
      },
      "source": [
        "import numpy as np\n",
        "import pandas as pd\n",
        "import matplotlib.pyplot as plt\n",
        "\n",
        "dataset1 = pd.read_csv(\"Data.csv\")\n",
        "X = dataset1.iloc[:, :-1].values\n",
        "y = dataset1.iloc[:, -1].values\n",
        "\n",
        "from sklearn.impute import SimpleImputer\n",
        "\n",
        "imputer = SimpleImputer(missing_values=np.nan, strategy='mean')\n",
        "imputer.fit(X[:, 1:3])\n",
        "X[:, 1:3] = imputer.transform(X[:, 1:3])\n",
        "\n",
        "from sklearn.compose import ColumnTransformer\n",
        "from sklearn.preprocessing import OneHotEncoder\n",
        "\n",
        "ct = ColumnTransformer(transformers = [('encoder', OneHotEncoder(), [0])], remainder = 'passthrough')\n",
        "X = np.array(ct.fit_transform(X))\n",
        "\n",
        "from sklearn.preprocessing import LabelEncoder\n",
        "\n",
        "le = LabelEncoder()\n",
        "y = le.fit_transform(y)"
      ],
      "execution_count": 12,
      "outputs": []
    },
    {
      "cell_type": "markdown",
      "metadata": {
        "id": "G0dqIfh3b4kV"
      },
      "source": [
        "# Rescale data"
      ]
    },
    {
      "cell_type": "code",
      "metadata": {
        "colab": {
          "base_uri": "https://localhost:8080/"
        },
        "id": "09qaMsT_an19",
        "outputId": "6d820e79-a20b-420d-a316-743cdadab95b"
      },
      "source": [
        "from sklearn.preprocessing import MinMaxScaler\n",
        " \n",
        "avgscaler = MinMaxScaler(feature_range = (0, 1))\n",
        "X = avgscaler.fit_transform(X)\n",
        "X"
      ],
      "execution_count": 9,
      "outputs": [
        {
          "output_type": "execute_result",
          "data": {
            "text/plain": [
              "array([[1.        , 0.        , 0.        , 0.73913043, 0.68571429],\n",
              "       [0.        , 0.        , 1.        , 0.        , 0.        ],\n",
              "       [0.        , 1.        , 0.        , 0.13043478, 0.17142857],\n",
              "       [0.        , 0.        , 1.        , 0.47826087, 0.37142857],\n",
              "       [0.        , 1.        , 0.        , 0.56521739, 0.45079365],\n",
              "       [1.        , 0.        , 0.        , 0.34782609, 0.28571429],\n",
              "       [0.        , 0.        , 1.        , 0.51207729, 0.11428571],\n",
              "       [1.        , 0.        , 0.        , 0.91304348, 0.88571429],\n",
              "       [0.        , 1.        , 0.        , 1.        , 1.        ],\n",
              "       [1.        , 0.        , 0.        , 0.43478261, 0.54285714]])"
            ]
          },
          "metadata": {},
          "execution_count": 9
        }
      ]
    },
    {
      "cell_type": "markdown",
      "metadata": {
        "id": "3SCr_R04b6b_"
      },
      "source": [
        "# Binarize Data (Make Binary)  "
      ]
    },
    {
      "cell_type": "code",
      "metadata": {
        "colab": {
          "base_uri": "https://localhost:8080/"
        },
        "id": "Nb3SwX82b-x2",
        "outputId": "1f37056d-4fc9-4b0a-8a69-1a2a1ebefa67"
      },
      "source": [
        "from sklearn.preprocessing import Binarizer\n",
        "\n",
        "binarizer = Binarizer(threshold = 0.0).fit(X)\n",
        "binaryX = binarizer.transform(X)\n",
        "np.set_printoptions(precision = 3)\n",
        "binaryX"
      ],
      "execution_count": 13,
      "outputs": [
        {
          "output_type": "execute_result",
          "data": {
            "text/plain": [
              "array([[1., 0., 0., 1., 1.],\n",
              "       [0., 0., 1., 1., 1.],\n",
              "       [0., 1., 0., 1., 1.],\n",
              "       [0., 0., 1., 1., 1.],\n",
              "       [0., 1., 0., 1., 1.],\n",
              "       [1., 0., 0., 1., 1.],\n",
              "       [0., 0., 1., 1., 1.],\n",
              "       [1., 0., 0., 1., 1.],\n",
              "       [0., 1., 0., 1., 1.],\n",
              "       [1., 0., 0., 1., 1.]])"
            ]
          },
          "metadata": {},
          "execution_count": 13
        }
      ]
    },
    {
      "cell_type": "markdown",
      "metadata": {
        "id": "IrpBFf8ectyu"
      },
      "source": [
        "# Standardize Data  (Feature Scaling)"
      ]
    },
    {
      "cell_type": "code",
      "metadata": {
        "colab": {
          "base_uri": "https://localhost:8080/"
        },
        "id": "YVTfYyiOc0Ib",
        "outputId": "701c0d04-e85b-4fc0-d099-c673468a43a6"
      },
      "source": [
        "from sklearn.preprocessing import StandardScaler\n",
        "\n",
        "scaler = StandardScaler()\n",
        "rescaledX = scaler.fit_transform(X)\n",
        "rescaledX"
      ],
      "execution_count": 16,
      "outputs": [
        {
          "output_type": "execute_result",
          "data": {
            "text/plain": [
              "array([[ 1.225e+00, -6.547e-01, -6.547e-01,  7.589e-01,  7.495e-01],\n",
              "       [-8.165e-01, -6.547e-01,  1.528e+00, -1.712e+00, -1.438e+00],\n",
              "       [-8.165e-01,  1.528e+00, -6.547e-01, -1.276e+00, -8.913e-01],\n",
              "       [-8.165e-01, -6.547e-01,  1.528e+00, -1.130e-01, -2.532e-01],\n",
              "       [-8.165e-01,  1.528e+00, -6.547e-01,  1.776e-01,  6.632e-16],\n",
              "       [ 1.225e+00, -6.547e-01, -6.547e-01, -5.490e-01, -5.267e-01],\n",
              "       [-8.165e-01, -6.547e-01,  1.528e+00,  0.000e+00, -1.074e+00],\n",
              "       [ 1.225e+00, -6.547e-01, -6.547e-01,  1.340e+00,  1.388e+00],\n",
              "       [-8.165e-01,  1.528e+00, -6.547e-01,  1.631e+00,  1.752e+00],\n",
              "       [ 1.225e+00, -6.547e-01, -6.547e-01, -2.583e-01,  2.937e-01]])"
            ]
          },
          "metadata": {},
          "execution_count": 16
        }
      ]
    }
  ]
}