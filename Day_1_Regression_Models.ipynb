{
  "nbformat": 4,
  "nbformat_minor": 0,
  "metadata": {
    "colab": {
      "name": "Day 1 : Regression Models.ipynb",
      "provenance": [],
      "authorship_tag": "ABX9TyNFCqf/6Yj6o99vZZnKogsg",
      "include_colab_link": true
    },
    "kernelspec": {
      "name": "python3",
      "display_name": "Python 3"
    },
    "language_info": {
      "name": "python"
    }
  },
  "cells": [
    {
      "cell_type": "markdown",
      "metadata": {
        "id": "view-in-github",
        "colab_type": "text"
      },
      "source": [
        "<a href=\"https://colab.research.google.com/github/zeelrupapara/Machine-Learning-Models/blob/main/Day_1_Regression_Models.ipynb\" target=\"_parent\"><img src=\"https://colab.research.google.com/assets/colab-badge.svg\" alt=\"Open In Colab\"/></a>"
      ]
    },
    {
      "cell_type": "markdown",
      "metadata": {
        "id": "BJw0fS2Znd3O"
      },
      "source": [
        "# **Regression Models**"
      ]
    },
    {
      "cell_type": "code",
      "metadata": {
        "id": "RWM4Ep3jngv3"
      },
      "source": [
        "import numpy as np\n",
        "import matplotlib.pyplot as plt\n",
        "import pandas as pd"
      ],
      "execution_count": 1,
      "outputs": []
    },
    {
      "cell_type": "markdown",
      "metadata": {
        "id": "py60eal0tbF7"
      },
      "source": [
        "# Multiple Linear Regression model"
      ]
    },
    {
      "cell_type": "code",
      "metadata": {
        "colab": {
          "base_uri": "https://localhost:8080/"
        },
        "id": "uEHeW276nxCF",
        "outputId": "d29b8981-c42a-40c2-8ba6-aca3291b7fbe"
      },
      "source": [
        "dataset = pd.read_csv(\"Data (1).csv\")\n",
        "print(dataset.head())\n",
        "X = dataset.iloc[:, :-1].values\n",
        "y = dataset.iloc[:, -1].values\n",
        "\n",
        "from sklearn.model_selection import train_test_split\n",
        "\n",
        "X_train, X_test, y_train, y_test = train_test_split(X, y, test_size = 0.2, random_state = 0)"
      ],
      "execution_count": 5,
      "outputs": [
        {
          "output_type": "stream",
          "name": "stdout",
          "text": [
            "      AT      V       AP     RH      PE\n",
            "0  14.96  41.76  1024.07  73.17  463.26\n",
            "1  25.18  62.96  1020.04  59.08  444.37\n",
            "2   5.11  39.40  1012.16  92.14  488.56\n",
            "3  20.86  57.32  1010.24  76.64  446.48\n",
            "4  10.82  37.50  1009.23  96.62  473.90\n"
          ]
        }
      ]
    },
    {
      "cell_type": "code",
      "metadata": {
        "colab": {
          "base_uri": "https://localhost:8080/"
        },
        "id": "iJWHzJjcpfa-",
        "outputId": "0767f1ac-6779-499a-97d5-78c19e12e913"
      },
      "source": [
        "from sklearn.linear_model import LinearRegression\n",
        "\n",
        "regressor = LinearRegression()\n",
        "regressor.fit(X_train, y_train)\n",
        "\n",
        "y_pred = regressor.predict(X_test)\n",
        "np.set_printoptions(precision=2)\n",
        "print(np.concatenate((y_pred.reshape(len(y_pred),1), y_test.reshape(len(y_test),1)),1))\n",
        "\n",
        "from sklearn.metrics import r2_score\n",
        "r2 = r2_score(y_test, y_pred)\n",
        "print(\" \")\n",
        "print(\"Accuracy\" + \"  \" + \"(\"+ str(r2) + \")\")\n"
      ],
      "execution_count": 22,
      "outputs": [
        {
          "output_type": "stream",
          "name": "stdout",
          "text": [
            "[[431.43 431.23]\n",
            " [458.56 460.01]\n",
            " [462.75 461.14]\n",
            " ...\n",
            " [469.52 473.26]\n",
            " [442.42 438.  ]\n",
            " [461.88 463.28]]\n",
            " \n",
            "Accuracy  (0.9325315554761302)\n"
          ]
        }
      ]
    },
    {
      "cell_type": "markdown",
      "metadata": {
        "id": "1sK5z1xaswRU"
      },
      "source": [
        "# Polynomial Regression model"
      ]
    },
    {
      "cell_type": "code",
      "metadata": {
        "colab": {
          "base_uri": "https://localhost:8080/"
        },
        "id": "i-JaA96IsynK",
        "outputId": "a62ed3b8-582b-4220-e8b7-8a06c71482f2"
      },
      "source": [
        "dataset1 = pd.read_csv(\"Data (1).csv\")\n",
        "print(dataset1.head())\n",
        "X = dataset1.iloc[:, :-1].values\n",
        "y = dataset1.iloc[:, -1].values\n",
        "\n",
        "from sklearn.model_selection import train_test_split\n",
        "\n",
        "X_train, X_test, y_train, y_test = train_test_split(X, y, test_size = 0.2, random_state = 0)\n",
        "\n"
      ],
      "execution_count": 21,
      "outputs": [
        {
          "output_type": "stream",
          "name": "stdout",
          "text": [
            "      AT      V       AP     RH      PE\n",
            "0  14.96  41.76  1024.07  73.17  463.26\n",
            "1  25.18  62.96  1020.04  59.08  444.37\n",
            "2   5.11  39.40  1012.16  92.14  488.56\n",
            "3  20.86  57.32  1010.24  76.64  446.48\n",
            "4  10.82  37.50  1009.23  96.62  473.90\n"
          ]
        }
      ]
    },
    {
      "cell_type": "code",
      "metadata": {
        "colab": {
          "base_uri": "https://localhost:8080/"
        },
        "id": "JiZDwJp6teOh",
        "outputId": "0de13911-e3fe-4e1d-84a2-180bc21ce64a"
      },
      "source": [
        "from sklearn.preprocessing import PolynomialFeatures\n",
        "from sklearn.linear_model import LinearRegression\n",
        "\n",
        "polyregressor = PolynomialFeatures(degree = 4)\n",
        "X_poly = polyregressor.fit_transform(X_train)\n",
        "regressor = LinearRegression()\n",
        "regressor.fit(X_poly, y_train)\n",
        "\n",
        "y_pred = regressor.predict(polyregressor.transform(X_test))\n",
        "np.set_printoptions(precision=2)\n",
        "print(np.concatenate((y_pred.reshape(len(y_pred),1), y_test.reshape(len(y_test),1)),1))\n",
        "\n",
        "\n",
        "from sklearn.metrics import r2_score\n",
        "r2 = r2_score(y_test, y_pred)\n",
        "print(\" \")\n",
        "print(\"Accuracy\" + \"  \" + \"(\"+ str(r2) + \")\")\n"
      ],
      "execution_count": 25,
      "outputs": [
        {
          "output_type": "stream",
          "name": "stdout",
          "text": [
            "[[433.94 431.23]\n",
            " [457.9  460.01]\n",
            " [460.52 461.14]\n",
            " ...\n",
            " [469.53 473.26]\n",
            " [438.27 438.  ]\n",
            " [461.66 463.28]]\n",
            " \n",
            "Accuracy  (0.9458192606428238)\n"
          ]
        }
      ]
    },
    {
      "cell_type": "markdown",
      "metadata": {
        "id": "L-q1PB1nvqQ4"
      },
      "source": [
        "# SVR model"
      ]
    },
    {
      "cell_type": "code",
      "metadata": {
        "colab": {
          "base_uri": "https://localhost:8080/"
        },
        "id": "YfzV-0yHv14M",
        "outputId": "6cb4c5f0-0d4e-4973-d4a0-edc9c556e096"
      },
      "source": [
        "dataset2 = pd.read_csv(\"Data (1).csv\")\n",
        "print(dataset2.head())\n",
        "X = dataset2.iloc[:, :-1].values\n",
        "y = dataset2.iloc[:, -1].values\n",
        "\n",
        "#Addition contant shape of y\n",
        "y = y.reshape(len(y),1)\n",
        "\n",
        "from sklearn.model_selection import train_test_split\n",
        "X_train, X_test, y_train, y_test = train_test_split(X, y, test_size = 0.2, random_state = 0)\n",
        "\n",
        "#In this model apply to feature scaling\n",
        "from sklearn.preprocessing import StandardScaler\n",
        "sc_X = StandardScaler()\n",
        "sc_y = StandardScaler()\n",
        "X_train = sc_X.fit_transform(X_train)\n",
        "y_train = sc_y.fit_transform(y_train)"
      ],
      "execution_count": 30,
      "outputs": [
        {
          "output_type": "stream",
          "name": "stdout",
          "text": [
            "      AT      V       AP     RH      PE\n",
            "0  14.96  41.76  1024.07  73.17  463.26\n",
            "1  25.18  62.96  1020.04  59.08  444.37\n",
            "2   5.11  39.40  1012.16  92.14  488.56\n",
            "3  20.86  57.32  1010.24  76.64  446.48\n",
            "4  10.82  37.50  1009.23  96.62  473.90\n"
          ]
        }
      ]
    },
    {
      "cell_type": "code",
      "metadata": {
        "colab": {
          "base_uri": "https://localhost:8080/"
        },
        "id": "HsUujbLgwktW",
        "outputId": "dc7ba558-8615-4cb3-e54f-6fd1f9bf215e"
      },
      "source": [
        "from sklearn.svm import SVR\n",
        "regressor = SVR(kernel = 'rbf')\n",
        "regressor.fit(X_train, y_train)\n",
        "\n",
        "y_pred = sc_y.inverse_transform(regressor.predict(sc_X.transform(X_test)))\n",
        "np.set_printoptions(precision=2)\n",
        "print(np.concatenate((y_pred.reshape(len(y_pred),1), y_test.reshape(len(y_test),1)),1))\n",
        "\n",
        "from sklearn.metrics import r2_score\n",
        "r2 = r2_score(y_test, y_pred)\n",
        "print(\" \")\n",
        "print(\"Accuracy\" + \"  \" + \"(\"+ str(r2) + \")\")\n"
      ],
      "execution_count": 31,
      "outputs": [
        {
          "output_type": "stream",
          "name": "stderr",
          "text": [
            "/usr/local/lib/python3.7/dist-packages/sklearn/utils/validation.py:760: DataConversionWarning: A column-vector y was passed when a 1d array was expected. Please change the shape of y to (n_samples, ), for example using ravel().\n",
            "  y = column_or_1d(y, warn=True)\n"
          ]
        },
        {
          "output_type": "stream",
          "name": "stdout",
          "text": [
            "[[434.05 431.23]\n",
            " [457.94 460.01]\n",
            " [461.03 461.14]\n",
            " ...\n",
            " [470.6  473.26]\n",
            " [439.42 438.  ]\n",
            " [460.92 463.28]]\n",
            " \n",
            "Accuracy  (0.9480784049986258)\n"
          ]
        }
      ]
    },
    {
      "cell_type": "markdown",
      "metadata": {
        "id": "3pQa6KLmygBm"
      },
      "source": [
        "# Decision Tree Regression model"
      ]
    },
    {
      "cell_type": "code",
      "metadata": {
        "colab": {
          "base_uri": "https://localhost:8080/"
        },
        "id": "EuruauomyvJz",
        "outputId": "cdf31c1a-d34c-4047-f03e-f2d3fc481569"
      },
      "source": [
        "dataset3 = pd.read_csv(\"Data (1).csv\")\n",
        "print(dataset3.head())\n",
        "X = dataset3.iloc[:, :-1].values\n",
        "y = dataset3.iloc[:, -1].values\n",
        "\n",
        "from sklearn.model_selection import train_test_split\n",
        "\n",
        "X_train, X_test, y_train, y_test = train_test_split(X, y, test_size = 0.2, random_state = 0)"
      ],
      "execution_count": 32,
      "outputs": [
        {
          "output_type": "stream",
          "name": "stdout",
          "text": [
            "      AT      V       AP     RH      PE\n",
            "0  14.96  41.76  1024.07  73.17  463.26\n",
            "1  25.18  62.96  1020.04  59.08  444.37\n",
            "2   5.11  39.40  1012.16  92.14  488.56\n",
            "3  20.86  57.32  1010.24  76.64  446.48\n",
            "4  10.82  37.50  1009.23  96.62  473.90\n"
          ]
        }
      ]
    },
    {
      "cell_type": "code",
      "metadata": {
        "colab": {
          "base_uri": "https://localhost:8080/"
        },
        "id": "4x713gxjy9Lm",
        "outputId": "24568fe9-f7e2-4f0e-8da2-28c9d54851b9"
      },
      "source": [
        "from sklearn.tree import DecisionTreeRegressor\n",
        "regressor = DecisionTreeRegressor(random_state = 0)\n",
        "regressor.fit(X_train, y_train)\n",
        "\n",
        "y_pred = regressor.predict(X_test)\n",
        "np.set_printoptions(precision=2)\n",
        "print(np.concatenate((y_pred.reshape(len(y_pred),1), y_test.reshape(len(y_test),1)),1))\n",
        "\n",
        "\n",
        "from sklearn.metrics import r2_score\n",
        "r2 = r2_score(y_test, y_pred)\n",
        "print(\" \")\n",
        "print(\"Accuracy\" + \"  \" + \"(\"+ str(r2) + \")\")\n"
      ],
      "execution_count": 34,
      "outputs": [
        {
          "output_type": "stream",
          "name": "stdout",
          "text": [
            "[[431.28 431.23]\n",
            " [462.81 460.01]\n",
            " [460.06 461.14]\n",
            " ...\n",
            " [471.46 473.26]\n",
            " [437.76 438.  ]\n",
            " [462.55 463.28]]\n",
            " \n",
            "Accuracy  (0.9226091050550043)\n"
          ]
        }
      ]
    },
    {
      "cell_type": "markdown",
      "metadata": {
        "id": "oXdfrRLEzxBK"
      },
      "source": [
        "# Random Forest Regression model"
      ]
    },
    {
      "cell_type": "code",
      "metadata": {
        "colab": {
          "base_uri": "https://localhost:8080/"
        },
        "id": "TV-2TDC5z4GI",
        "outputId": "63c3f0ac-5b5b-4b7a-986d-b9d44bc2c02d"
      },
      "source": [
        "dataset4 = pd.read_csv(\"Data (1).csv\")\n",
        "print(dataset4.head())\n",
        "X = dataset4.iloc[:, :-1].values\n",
        "y = dataset4.iloc[:, -1].values\n",
        "\n",
        "from sklearn.model_selection import train_test_split\n",
        "\n",
        "X_train, X_test, y_train, y_test = train_test_split(X, y, test_size = 0.2, random_state = 0)"
      ],
      "execution_count": 35,
      "outputs": [
        {
          "output_type": "stream",
          "name": "stdout",
          "text": [
            "      AT      V       AP     RH      PE\n",
            "0  14.96  41.76  1024.07  73.17  463.26\n",
            "1  25.18  62.96  1020.04  59.08  444.37\n",
            "2   5.11  39.40  1012.16  92.14  488.56\n",
            "3  20.86  57.32  1010.24  76.64  446.48\n",
            "4  10.82  37.50  1009.23  96.62  473.90\n"
          ]
        }
      ]
    },
    {
      "cell_type": "code",
      "metadata": {
        "colab": {
          "base_uri": "https://localhost:8080/"
        },
        "id": "joWgpzG1z8DF",
        "outputId": "361d8040-6ea7-4193-9d6f-a8cc4375a75e"
      },
      "source": [
        "from sklearn.ensemble import RandomForestRegressor\n",
        "regressor = RandomForestRegressor(n_estimators = 10, random_state = 0)\n",
        "regressor.fit(X_train, y_train)\n",
        "\n",
        "y_pred = regressor.predict(X_test)\n",
        "np.set_printoptions(precision=2)\n",
        "print(np.concatenate((y_pred.reshape(len(y_pred),1), y_test.reshape(len(y_test),1)),1))\n",
        "\n",
        "\n",
        "from sklearn.metrics import r2_score\n",
        "r2 = r2_score(y_test, y_pred)\n",
        "print(\" \")\n",
        "print(\"Accuracy\" + \"  \" + \"(\"+ str(r2) + \")\")"
      ],
      "execution_count": 37,
      "outputs": [
        {
          "output_type": "stream",
          "name": "stdout",
          "text": [
            "[[433.78 431.23]\n",
            " [457.99 460.01]\n",
            " [463.14 461.14]\n",
            " ...\n",
            " [470.16 473.26]\n",
            " [439.51 438.  ]\n",
            " [460.32 463.28]]\n",
            " \n",
            "Accuracy  (0.9615980699813017)\n"
          ]
        }
      ]
    }
  ]
}